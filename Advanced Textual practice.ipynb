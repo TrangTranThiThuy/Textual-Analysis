{
 "cells": [
  {
   "cell_type": "code",
   "execution_count": null,
   "id": "1539d7f0",
   "metadata": {
    "scrolled": false
   },
   "outputs": [
    {
     "data": {
      "text/html": [
       "<div>\n",
       "<style scoped>\n",
       "    .dataframe tbody tr th:only-of-type {\n",
       "        vertical-align: middle;\n",
       "    }\n",
       "\n",
       "    .dataframe tbody tr th {\n",
       "        vertical-align: top;\n",
       "    }\n",
       "\n",
       "    .dataframe thead th {\n",
       "        text-align: right;\n",
       "    }\n",
       "</style>\n",
       "<table border=\"1\" class=\"dataframe\">\n",
       "  <thead>\n",
       "    <tr style=\"text-align: right;\">\n",
       "      <th></th>\n",
       "      <th>Sentiment</th>\n",
       "      <th>Text</th>\n",
       "    </tr>\n",
       "  </thead>\n",
       "  <tbody>\n",
       "    <tr>\n",
       "      <th>0</th>\n",
       "      <td>neutral</td>\n",
       "      <td>According to Gran , the company has no plans t...</td>\n",
       "    </tr>\n",
       "    <tr>\n",
       "      <th>1</th>\n",
       "      <td>neutral</td>\n",
       "      <td>Technopolis plans to develop in stages an area...</td>\n",
       "    </tr>\n",
       "    <tr>\n",
       "      <th>2</th>\n",
       "      <td>negative</td>\n",
       "      <td>The international electronic industry company ...</td>\n",
       "    </tr>\n",
       "    <tr>\n",
       "      <th>3</th>\n",
       "      <td>positive</td>\n",
       "      <td>With the new production plant the company woul...</td>\n",
       "    </tr>\n",
       "    <tr>\n",
       "      <th>4</th>\n",
       "      <td>positive</td>\n",
       "      <td>According to the company 's updated strategy f...</td>\n",
       "    </tr>\n",
       "  </tbody>\n",
       "</table>\n",
       "</div>"
      ],
      "text/plain": [
       "  Sentiment                                               Text\n",
       "0   neutral  According to Gran , the company has no plans t...\n",
       "1   neutral  Technopolis plans to develop in stages an area...\n",
       "2  negative  The international electronic industry company ...\n",
       "3  positive  With the new production plant the company woul...\n",
       "4  positive  According to the company 's updated strategy f..."
      ]
     },
     "execution_count": 18,
     "metadata": {},
     "output_type": "execute_result"
    }
   ],
   "source": [
    "import pandas as pd\n",
    "import os\n",
    "# Load the data \n",
    "os.chdir(\"/Users/thuytrang/Library/CloudStorage/OneDrive-Audencia/17. Python for finance ML/ML assignment Trang\")\n",
    "df = pd.read_csv(\"all-data.csv\",encoding=\"ISO-8859-1\",sep = \",\",names=['Sentiment','Text'])\n",
    "df.head()"
   ]
  },
  {
   "cell_type": "code",
   "execution_count": 19,
   "id": "a0dfc755",
   "metadata": {},
   "outputs": [
    {
     "data": {
      "text/plain": [
       "4846"
      ]
     },
     "execution_count": 19,
     "metadata": {},
     "output_type": "execute_result"
    }
   ],
   "source": [
    "# number of rows\n",
    "len(df)"
   ]
  },
  {
   "cell_type": "code",
   "execution_count": 20,
   "id": "1d7e9c44",
   "metadata": {},
   "outputs": [
    {
     "name": "stdout",
     "output_type": "stream",
     "text": [
      "<class 'pandas.core.frame.DataFrame'>\n",
      "RangeIndex: 4846 entries, 0 to 4845\n",
      "Data columns (total 2 columns):\n",
      " #   Column     Non-Null Count  Dtype \n",
      "---  ------     --------------  ----- \n",
      " 0   Sentiment  4846 non-null   object\n",
      " 1   Text       4846 non-null   object\n",
      "dtypes: object(2)\n",
      "memory usage: 75.8+ KB\n"
     ]
    }
   ],
   "source": [
    "# types of data\n",
    "df.info()"
   ]
  },
  {
   "cell_type": "code",
   "execution_count": 22,
   "id": "2fab49c6",
   "metadata": {},
   "outputs": [
    {
     "name": "stdout",
     "output_type": "stream",
     "text": [
      "According to Gran , the company has no plans to move all production to Russia , although that is where the company is growing .\n"
     ]
    }
   ],
   "source": [
    "# Show first text \n",
    "print(df[\"Text\"][0])"
   ]
  },
  {
   "cell_type": "code",
   "execution_count": 23,
   "id": "7ef67ae2",
   "metadata": {},
   "outputs": [
    {
     "name": "stdout",
     "output_type": "stream",
     "text": [
      "Sentiment is: neutral\n"
     ]
    }
   ],
   "source": [
    "#Show the 1st sentiment\n",
    "print(\"Sentiment is:\", df[\"Sentiment\"][0])"
   ]
  },
  {
   "cell_type": "code",
   "execution_count": 24,
   "id": "529c213b",
   "metadata": {},
   "outputs": [
    {
     "name": "stdout",
     "output_type": "stream",
     "text": [
      "Sales in Finland decreased by 10.5 % in January , while sales outside Finland dropped by 17 % .\n"
     ]
    }
   ],
   "source": [
    "# Show last review text\n",
    "print(df[\"Text\"][4845])"
   ]
  },
  {
   "cell_type": "code",
   "execution_count": 26,
   "id": "d0275e0e",
   "metadata": {},
   "outputs": [
    {
     "name": "stdout",
     "output_type": "stream",
     "text": [
      "Sentiment is: negative\n"
     ]
    }
   ],
   "source": [
    "# Show last review sentiment\n",
    "print(\"Sentiment is:\", df[\"Sentiment\"][4845])"
   ]
  },
  {
   "cell_type": "code",
   "execution_count": 27,
   "id": "45ea6a6d",
   "metadata": {},
   "outputs": [
    {
     "data": {
      "text/plain": [
       "['i', 'me', 'my', 'myself', 'we', 'our', 'ours', 'ourselves', 'you', \"you're\"]"
      ]
     },
     "execution_count": 27,
     "metadata": {},
     "output_type": "execute_result"
    }
   ],
   "source": [
    "from nltk.corpus import stopwords\n",
    "stop_words = stopwords.words(\"english\")\n",
    "stop_words[0:10]"
   ]
  },
  {
   "cell_type": "code",
   "execution_count": 30,
   "id": "fa707909",
   "metadata": {},
   "outputs": [],
   "source": [
    "# import the other relevant packages\n",
    "from nltk.tokenize import word_tokenize\n",
    "from nltk.stem.porter import PorterStemmer\n",
    "\n",
    "# define a stemmer\n",
    "porter = PorterStemmer()\n",
    "# we turn reviews to lowercase\n",
    "df[\"Text\"]=df[\"Text\"].str.lower()\n",
    "# create array of cleaned reviews\n",
    "text_clean =[]\n",
    "\n",
    "# for each review text\n",
    "for i in range(0, len(df['Text'])):\n",
    "    # split the text into its words/tokens\n",
    "    tokens = word_tokenize(df['Text'][i])\n",
    "    #  create an empty array that will receive processed words/tokens\n",
    "    final_token = []\n",
    "    # for each word, add it to the clean array if alphanumerical \n",
    "    # and not a stop word, and after being stemmed\n",
    "    for t in tokens:\n",
    "        if t.isalpha():\n",
    "            if not t in stop_words:\n",
    "                final_token.append(porter.stem(t))\n",
    "    # concatenate the cleaned word together to get a \n",
    "    # processed review text and add it to the cleaned reviews array   \n",
    "    text_clean.append(' '.join(final_token))"
   ]
  },
  {
   "cell_type": "code",
   "execution_count": 31,
   "id": "2e380b5e",
   "metadata": {},
   "outputs": [
    {
     "name": "stdout",
     "output_type": "stream",
     "text": [
      "both operating profit and turnover for the three-month period increased , respectively from eur0 .9 m and eur8 .3 m , as compared to the corresponding period in 2005 .\n"
     ]
    }
   ],
   "source": [
    "# compare a raw text to the processed one\n",
    "print(df['Text'][100])"
   ]
  },
  {
   "cell_type": "code",
   "execution_count": 32,
   "id": "d9ad3b33",
   "metadata": {
    "scrolled": true
   },
   "outputs": [
    {
     "name": "stdout",
     "output_type": "stream",
     "text": [
      "oper profit turnov period increas respect compar correspond period\n"
     ]
    }
   ],
   "source": [
    "# compare a raw text to the processed one\n",
    "print(text_clean[100])"
   ]
  },
  {
   "cell_type": "code",
   "execution_count": 36,
   "id": "4e8cf0ad",
   "metadata": {},
   "outputs": [],
   "source": [
    "# now we do it for the text\n",
    "from sklearn.feature_extraction.text import CountVectorizer\n",
    "vectorizer = CountVectorizer(max_features=10000, min_df=100, max_df=1000)\n",
    "X = vectorizer.fit_transform(text_clean).toarray()"
   ]
  },
  {
   "cell_type": "code",
   "execution_count": 37,
   "id": "d8fd0bca",
   "metadata": {},
   "outputs": [
    {
     "name": "stdout",
     "output_type": "stream",
     "text": [
      "(4846, 70)\n"
     ]
    }
   ],
   "source": [
    "print(X.shape) # 70 features (words of vocabulary)"
   ]
  },
  {
   "cell_type": "code",
   "execution_count": 40,
   "id": "17b998cf",
   "metadata": {},
   "outputs": [
    {
     "data": {
      "text/plain": [
       "array(['accord', 'agreement', 'also', 'bank', 'build', 'busi', 'capit',\n",
       "       'compani', 'compar', 'construct', 'contract', 'corpor',\n",
       "       'correspond', 'custom', 'develop', 'eur', 'euro', 'expect',\n",
       "       'financi', 'finland', 'finnish', 'first', 'group', 'hel',\n",
       "       'helsinki', 'includ', 'increas', 'industri', 'invest', 'loss',\n",
       "       'manag', 'manufactur', 'market', 'million', 'mln', 'mn', 'mobil',\n",
       "       'net', 'new', 'nokia', 'oper', 'order', 'oyj', 'per', 'period',\n",
       "       'plan', 'plant', 'price', 'product', 'profit', 'project', 'provid',\n",
       "       'quarter', 'report', 'result', 'rose', 'said', 'sale', 'servic',\n",
       "       'share', 'solut', 'system', 'technolog', 'today', 'total', 'unit',\n",
       "       'use', 'valu', 'well', 'year'], dtype=object)"
      ]
     },
     "execution_count": 40,
     "metadata": {},
     "output_type": "execute_result"
    }
   ],
   "source": [
    "# see the features names\n",
    "vectorizer.get_feature_names_out()[:4846]"
   ]
  },
  {
   "cell_type": "code",
   "execution_count": 41,
   "id": "d8e03515",
   "metadata": {},
   "outputs": [
    {
     "data": {
      "text/plain": [
       "array([1, 0, 0, 0, 0, 0, 0, 2, 0, 0, 0, 0, 0, 0, 0, 0, 0, 0, 0, 0, 0, 0,\n",
       "       0, 0, 0, 0, 0, 0, 0, 0, 0, 0, 0, 0, 0, 0, 0, 0, 0, 0, 0, 0, 0, 0,\n",
       "       0, 1, 0, 0, 1, 0, 0, 0, 0, 0, 0, 0, 0, 0, 0, 0, 0, 0, 0, 0, 0, 0,\n",
       "       0, 0, 0, 0])"
      ]
     },
     "execution_count": 41,
     "metadata": {},
     "output_type": "execute_result"
    }
   ],
   "source": [
    "# see the features values for a text\n",
    "X[0][:4846]"
   ]
  },
  {
   "cell_type": "code",
   "execution_count": 46,
   "id": "c0360441",
   "metadata": {},
   "outputs": [
    {
     "name": "stdout",
     "output_type": "stream",
     "text": [
      "For the first text, the word: mn appears 0 times.\n"
     ]
    }
   ],
   "source": [
    "print(\"For the first text,\", \"the word:\",\n",
    "      vectorizer.get_feature_names_out()[35], \"appears\",\n",
    "      X[0][35], \"times.\")"
   ]
  },
  {
   "cell_type": "code",
   "execution_count": 47,
   "id": "278ab16d",
   "metadata": {},
   "outputs": [],
   "source": [
    "# 1-gram and bigrams\n",
    "vectorizer = CountVectorizer(ngram_range=(1,2), \n",
    "                             max_features=10000, min_df=100, max_df=1000)\n",
    "X = vectorizer.fit_transform(text_clean)"
   ]
  },
  {
   "cell_type": "code",
   "execution_count": 49,
   "id": "506fe4e0",
   "metadata": {},
   "outputs": [
    {
     "name": "stdout",
     "output_type": "stream",
     "text": [
      "(4846, 77)\n"
     ]
    }
   ],
   "source": [
    "print(X.shape) # 77 features (words of vocabulary)"
   ]
  },
  {
   "cell_type": "code",
   "execution_count": 50,
   "id": "0cad99d4",
   "metadata": {},
   "outputs": [
    {
     "data": {
      "text/plain": [
       "array(['accord', 'agreement', 'also', 'bank', 'build', 'busi', 'capit',\n",
       "       'compani', 'compar', 'construct', 'contract', 'corpor',\n",
       "       'correspond', 'correspond period', 'custom', 'develop', 'eur',\n",
       "       'eur million', 'eur mn', 'euro', 'expect', 'financi', 'finland',\n",
       "       'finnish', 'first', 'group', 'hel', 'helsinki', 'includ',\n",
       "       'increas', 'industri', 'invest', 'loss', 'manag', 'manufactur',\n",
       "       'market', 'million', 'mln', 'mn', 'mn eur', 'mobil', 'net',\n",
       "       'net sale', 'new', 'nokia', 'oper', 'oper profit', 'order', 'oyj',\n",
       "       'per', 'period', 'plan', 'plant', 'price', 'product', 'profit',\n",
       "       'project', 'provid', 'quarter', 'report', 'result', 'rose', 'said',\n",
       "       'sale', 'servic', 'share', 'solut', 'system', 'technolog', 'today',\n",
       "       'total', 'total eur', 'unit', 'use', 'valu', 'well', 'year'],\n",
       "      dtype=object)"
      ]
     },
     "execution_count": 50,
     "metadata": {},
     "output_type": "execute_result"
    }
   ],
   "source": [
    "# see the features names\n",
    "vectorizer.get_feature_names_out()[0:4846]"
   ]
  },
  {
   "cell_type": "code",
   "execution_count": 51,
   "id": "1f3f7567",
   "metadata": {},
   "outputs": [],
   "source": [
    "from sklearn.feature_extraction.text import TfidfTransformer\n",
    "tfidfconverter = TfidfTransformer()\n",
    "X = tfidfconverter.fit_transform(X).toarray()"
   ]
  },
  {
   "cell_type": "code",
   "execution_count": 64,
   "id": "3e28ab9f",
   "metadata": {},
   "outputs": [
    {
     "data": {
      "text/plain": [
       "array([0.49112508, 0.        , 0.        , 0.        , 0.        ,\n",
       "       0.        , 0.        , 0.57405108, 0.        , 0.        ,\n",
       "       0.        , 0.        , 0.        , 0.        , 0.        ,\n",
       "       0.        , 0.        , 0.        , 0.        , 0.        ,\n",
       "       0.        , 0.        , 0.        , 0.        , 0.        ,\n",
       "       0.        , 0.        , 0.        , 0.        , 0.        ,\n",
       "       0.        , 0.        , 0.        , 0.        , 0.        ,\n",
       "       0.        , 0.        , 0.        , 0.        , 0.        ,\n",
       "       0.        , 0.        , 0.        , 0.        , 0.        ,\n",
       "       0.        , 0.        , 0.        , 0.        , 0.        ,\n",
       "       0.        , 0.51225026, 0.        , 0.        , 0.40848645,\n",
       "       0.        , 0.        , 0.        , 0.        , 0.        ,\n",
       "       0.        , 0.        , 0.        , 0.        , 0.        ,\n",
       "       0.        , 0.        , 0.        , 0.        , 0.        ,\n",
       "       0.        , 0.        , 0.        , 0.        , 0.        ,\n",
       "       0.        , 0.        ])"
      ]
     },
     "execution_count": 64,
     "metadata": {},
     "output_type": "execute_result"
    }
   ],
   "source": [
    "# see the features values for a text\n",
    "X[0][:4846]"
   ]
  },
  {
   "cell_type": "code",
   "execution_count": 65,
   "id": "4de3a1a2",
   "metadata": {},
   "outputs": [
    {
     "name": "stdout",
     "output_type": "stream",
     "text": [
      "For the first review, the word: million has a relative frequency of 0.0 .\n"
     ]
    }
   ],
   "source": [
    "import numpy as np\n",
    "print(\"For the first review,\", \"the word:\",\n",
    "      vectorizer.get_feature_names_out()[36], \n",
    "      \"has a relative frequency of\", np.round(X[0][36],2), \".\")"
   ]
  },
  {
   "cell_type": "code",
   "execution_count": 66,
   "id": "9ae38ea3",
   "metadata": {},
   "outputs": [
    {
     "name": "stdout",
     "output_type": "stream",
     "text": [
      "(3392, 77)\n",
      "(3392,)\n",
      "(1454, 77)\n",
      "(1454,)\n"
     ]
    }
   ],
   "source": [
    "from sklearn.model_selection import train_test_split\n",
    "y=df['Sentiment'] \n",
    "X_train, X_test, y_train, y_test = train_test_split(X, y,\n",
    "                                                    test_size=0.3,\n",
    "                                                    random_state=0,\n",
    "                                                    stratify=y, shuffle=True)\n",
    "print(X_train.shape)\n",
    "print(y_train.shape)\n",
    "print(X_test.shape)\n",
    "print(y_test.shape)"
   ]
  },
  {
   "cell_type": "code",
   "execution_count": 67,
   "id": "ae159157",
   "metadata": {},
   "outputs": [],
   "source": [
    "import sklearn.linear_model\n",
    "logreg = sklearn.linear_model.LogisticRegression()\n",
    "logreg.fit(X_train, y_train)\n",
    "y_pred = logreg.predict(X_test)"
   ]
  },
  {
   "cell_type": "code",
   "execution_count": 68,
   "id": "fce6293a",
   "metadata": {},
   "outputs": [
    {
     "data": {
      "image/png": "[encoded data removed]",
      "text/plain": [
       "<Figure size 640x480 with 2 Axes>"
      ]
     },
     "metadata": {},
     "output_type": "display_data"
    }
   ],
   "source": [
    "from sklearn.metrics import classification_report, confusion_matrix\n",
    "import seaborn as sns\n",
    "import matplotlib.pyplot as plt\n",
    "cm=confusion_matrix(y_test,y_pred)\n",
    "ax= plt.subplot()\n",
    "sns.heatmap(cm, annot=True, fmt='g', ax=ax);\n",
    "# labels, title and ticks\n",
    "ax.set_xlabel('Predicted labels');ax.set_ylabel('True labels'); \n",
    "ax.set_title('Confusion Matrix'); "
   ]
  },
  {
   "cell_type": "code",
   "execution_count": 69,
   "id": "ddbfe780",
   "metadata": {},
   "outputs": [
    {
     "name": "stdout",
     "output_type": "stream",
     "text": [
      "              precision    recall  f1-score   support\n",
      "\n",
      "    negative       0.48      0.17      0.25       181\n",
      "     neutral       0.69      0.93      0.79       864\n",
      "    positive       0.56      0.30      0.39       409\n",
      "\n",
      "    accuracy                           0.66      1454\n",
      "   macro avg       0.58      0.47      0.48      1454\n",
      "weighted avg       0.63      0.66      0.61      1454\n",
      "\n"
     ]
    }
   ],
   "source": [
    "print(classification_report(y_test,y_pred))"
   ]
  },
  {
   "cell_type": "code",
   "execution_count": 73,
   "id": "9700e70b",
   "metadata": {},
   "outputs": [
    {
     "name": "stdout",
     "output_type": "stream",
     "text": [
      "In the second quarter of 2010 , the group 's net profit rose to EUR3 .1 m from EUR2 .5 m in April-June 2009 .\n",
      "['positive']\n"
     ]
    }
   ],
   "source": [
    "# positive text\n",
    "news = \"In the second quarter of 2010 , the group 's net profit rose to EUR3 .1 m from EUR2 .5 m in April-June 2009 .\"\n",
    "news_vec = vectorizer.transform([news])\n",
    "news_vec = tfidfconverter.fit_transform(news_vec).toarray()\n",
    "prediction = logreg.predict(news_vec)\n",
    "print(news)\n",
    "print(prediction)"
   ]
  },
  {
   "cell_type": "code",
   "execution_count": 74,
   "id": "10cc9bc8",
   "metadata": {},
   "outputs": [
    {
     "name": "stdout",
     "output_type": "stream",
     "text": [
      "There did not seem to be enough hours in a day for Pekkarinen .\n",
      "['neutral']\n"
     ]
    }
   ],
   "source": [
    "# neutral text\n",
    "news = \"There did not seem to be enough hours in a day for Pekkarinen .\"\n",
    "news_vec = vectorizer.transform([news])\n",
    "news_vec = tfidfconverter.fit_transform(news_vec).toarray()\n",
    "prediction = logreg.predict(news_vec)\n",
    "print(news)\n",
    "print(prediction)"
   ]
  },
  {
   "cell_type": "code",
   "execution_count": 77,
   "id": "61a1ef8c",
   "metadata": {
    "scrolled": true
   },
   "outputs": [
    {
     "name": "stdout",
     "output_type": "stream",
     "text": [
      "Text is : according to gran , the company has no plans to move all production to russia , although that is where the company is growing .\n",
      "Associated sentiment is neutral\n",
      "Prediction from TextBlob is pos\n"
     ]
    }
   ],
   "source": [
    "from textblob import TextBlob\n",
    "from textblob.sentiments import NaiveBayesAnalyzer\n",
    "blob = TextBlob(df[\"Text\"][0], analyzer=NaiveBayesAnalyzer())\n",
    "blob.sentiment\n",
    "print(\"Text is :\", df[\"Text\"][0])\n",
    "print(\"Associated sentiment is\", df[\"Sentiment\"][0])\n",
    "print(\"Prediction from TextBlob is\", blob.sentiment.classification)\n",
    "## it gives the expected outcome"
   ]
  },
  {
   "cell_type": "code",
   "execution_count": null,
   "id": "3177ab85",
   "metadata": {},
   "outputs": [],
   "source": []
  }
 ],
 "metadata": {
  "kernelspec": {
   "display_name": "Python 3 (ipykernel)",
   "language": "python",
   "name": "python3"
  },
  "language_info": {
   "codemirror_mode": {
    "name": "ipython",
    "version": 3
   },
   "file_extension": ".py",
   "mimetype": "text/x-python",
   "name": "python",
   "nbconvert_exporter": "python",
   "pygments_lexer": "ipython3",
   "version": "3.9.13"
  }
 },
 "nbformat": 4,
 "nbformat_minor": 5
}
